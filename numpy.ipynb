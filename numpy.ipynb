{
 "cells": [
  {
   "cell_type": "code",
   "execution_count": null,
   "id": "e95c675f-0a7c-423a-9d40-46fb5b8288d0",
   "metadata": {},
   "outputs": [],
   "source": [
    "numpy "
   ]
  },
  {
   "cell_type": "code",
   "execution_count": null,
   "id": "1092b574-0e82-404d-a86e-5579c996949e",
   "metadata": {},
   "outputs": [],
   "source": [
    "single dimensionL Array"
   ]
  },
  {
   "cell_type": "code",
   "execution_count": 1,
   "id": "1da58fc0-69ad-4bdb-aba3-a80d8efce739",
   "metadata": {},
   "outputs": [
    {
     "data": {
      "text/plain": [
       "array([10, 20, 30, 40, 50, 60])"
      ]
     },
     "execution_count": 1,
     "metadata": {},
     "output_type": "execute_result"
    }
   ],
   "source": [
    "import numpy as np\n",
    "n1 = np.array([10,20,30,40,50,60])\n",
    "n1"
   ]
  },
  {
   "cell_type": "code",
   "execution_count": 4,
   "id": "b977ea97-cd9f-4bad-943e-501b156ebc80",
   "metadata": {},
   "outputs": [
    {
     "name": "stdout",
     "output_type": "stream",
     "text": [
      "[[10 20 30 40 50 60]\n",
      " [30 44 22 55 67 76]]\n"
     ]
    },
    {
     "data": {
      "text/plain": [
       "numpy.ndarray"
      ]
     },
     "execution_count": 4,
     "metadata": {},
     "output_type": "execute_result"
    }
   ],
   "source": [
    "n2 = np.array([[10,20,30,40,50,60],[30,44,22,55,67,76]])\n",
    "print(n2)\n",
    "n2\n",
    "type(n2)\n"
   ]
  },
  {
   "cell_type": "code",
   "execution_count": 6,
   "id": "b9415580-39c8-4b41-b559-b7fa48d36414",
   "metadata": {},
   "outputs": [
    {
     "data": {
      "text/plain": [
       "array([[0., 0., 0., 0., 0., 0.],\n",
       "       [0., 0., 0., 0., 0., 0.],\n",
       "       [0., 0., 0., 0., 0., 0.],\n",
       "       [0., 0., 0., 0., 0., 0.],\n",
       "       [0., 0., 0., 0., 0., 0.],\n",
       "       [0., 0., 0., 0., 0., 0.]])"
      ]
     },
     "execution_count": 6,
     "metadata": {},
     "output_type": "execute_result"
    }
   ],
   "source": [
    "n3 = np.zeros((6,6))\n",
    "n3"
   ]
  },
  {
   "cell_type": "code",
   "execution_count": 12,
   "id": "129acd0e-ba2a-4c2d-99c4-7a652dab0b2a",
   "metadata": {},
   "outputs": [
    {
     "data": {
      "text/plain": [
       "array([[12, 12, 12, 12, 12, 12],\n",
       "       [12, 12, 12, 12, 12, 12],\n",
       "       [12, 12, 12, 12, 12, 12],\n",
       "       [12, 12, 12, 12, 12, 12],\n",
       "       [12, 12, 12, 12, 12, 12],\n",
       "       [12, 12, 12, 12, 12, 12]])"
      ]
     },
     "execution_count": 12,
     "metadata": {},
     "output_type": "execute_result"
    }
   ],
   "source": [
    "n3 = np.full((6,6),12)\n",
    "n3"
   ]
  },
  {
   "cell_type": "code",
   "execution_count": 3,
   "id": "92632451-2dcb-4825-b829-bcd64efde521",
   "metadata": {},
   "outputs": [],
   "source": [
    "n4 = np.arange(10,20)\n",
    "n4"
   ]
  },
  {
   "cell_type": "code",
   "execution_count": 18,
   "id": "129325e6-d835-421c-8c24-b4cbbf968ead",
   "metadata": {},
   "outputs": [
    {
     "data": {
      "text/plain": [
       "array([83, 14, 72, 62, 17,  3, 72, 32])"
      ]
     },
     "execution_count": 18,
     "metadata": {},
     "output_type": "execute_result"
    }
   ],
   "source": [
    "n3 = np.random.randint(1,100,8)\n",
    "n3"
   ]
  },
  {
   "cell_type": "code",
   "execution_count": 20,
   "id": "84f2906e-b007-40a7-84c9-feb414ca5388",
   "metadata": {},
   "outputs": [
    {
     "data": {
      "text/plain": [
       "array([94, 53, 11, 77, 83, 98, 71, 70, 96, 45, 98, 41, 31,  1, 28, 71, 25,\n",
       "       10, 69, 23, 48, 56, 42,  5, 95, 93, 72, 45, 86, 39, 18])"
      ]
     },
     "execution_count": 20,
     "metadata": {},
     "output_type": "execute_result"
    }
   ],
   "source": [
    "n3 = np.random.randint(1,100,31)\n",
    "n3"
   ]
  },
  {
   "cell_type": "code",
   "execution_count": 23,
   "id": "60d164bd-5ea2-4369-93ff-02e6d6575ab0",
   "metadata": {},
   "outputs": [
    {
     "data": {
      "text/plain": [
       "array([[83, 14],\n",
       "       [72, 62],\n",
       "       [17,  3],\n",
       "       [72, 32],\n",
       "       [ 2,  3],\n",
       "       [ 4,  3],\n",
       "       [ 2,  3],\n",
       "       [ 2,  3]])"
      ]
     },
     "execution_count": 23,
     "metadata": {},
     "output_type": "execute_result"
    }
   ],
   "source": [
    "n1 = np.array([[83, 14, 72, 62, 17,  3, 72, 32],[2,3,4,3,2,3,2,3]])\n",
    "n1.shape\n",
    "n1.shape = (8,2)\n",
    "n1.shape\n",
    "n1"
   ]
  },
  {
   "cell_type": "code",
   "execution_count": 24,
   "id": "8c43a095-8bf0-4f37-b2d7-9986cb2b5284",
   "metadata": {},
   "outputs": [
    {
     "data": {
      "text/plain": [
       "array([[83, 14, 72, 62, 17,  3, 72, 32],\n",
       "       [84, 12, 72, 65, 17, 75, 73, 32]])"
      ]
     },
     "execution_count": 24,
     "metadata": {},
     "output_type": "execute_result"
    }
   ],
   "source": [
    "n1 =np.array([83, 14, 72, 62, 17,  3, 72, 32])\n",
    "n2 = np.array([84, 12, 72, 65, 17,  75, 73, 32])\n",
    "np.vstack((n1,n2))\n"
   ]
  },
  {
   "cell_type": "code",
   "execution_count": 27,
   "id": "c5a91c29-6776-456a-8c5d-a8f909cc134b",
   "metadata": {},
   "outputs": [
    {
     "data": {
      "text/plain": [
       "array([[84, 12, 72, 65, 17, 75, 73, 32],\n",
       "       [83, 14, 72, 62, 17,  3, 72, 32]])"
      ]
     },
     "execution_count": 27,
     "metadata": {},
     "output_type": "execute_result"
    }
   ],
   "source": [
    "n1 =np.array([83, 14, 72, 62, 17,  3, 72, 32])\n",
    "n2 = np.array([84, 12, 72, 65, 17,  75, 73, 32])\n",
    "np.vstack((n2,n1))"
   ]
  },
  {
   "cell_type": "code",
   "execution_count": 28,
   "id": "0c7ccc58-1395-4b6e-b3c5-c563ae2dc4dc",
   "metadata": {},
   "outputs": [
    {
     "data": {
      "text/plain": [
       "array([83, 14, 72, 62, 17,  3, 72, 32, 84, 12, 72, 65, 17, 75, 73, 32])"
      ]
     },
     "execution_count": 28,
     "metadata": {},
     "output_type": "execute_result"
    }
   ],
   "source": [
    "n1 =np.array([83, 14, 72, 62, 17,  3, 72, 32])\n",
    "n2 = np.array([84, 12, 72, 65, 17,  75, 73, 32])\n",
    "np.hstack((n1,n2))"
   ]
  },
  {
   "cell_type": "code",
   "execution_count": 29,
   "id": "38a2ca22-ff7e-4ded-a926-32cd6e900aed",
   "metadata": {},
   "outputs": [
    {
     "data": {
      "text/plain": [
       "array([[83, 84],\n",
       "       [14, 12],\n",
       "       [72, 72],\n",
       "       [62, 65],\n",
       "       [17, 17],\n",
       "       [ 3, 75],\n",
       "       [72, 73],\n",
       "       [32, 32]])"
      ]
     },
     "execution_count": 29,
     "metadata": {},
     "output_type": "execute_result"
    }
   ],
   "source": [
    "n1 =np.array([83, 14, 72, 62, 17,  3, 72, 32])\n",
    "n2 = np.array([84, 12, 72, 65, 17,  75, 73, 32])\n",
    "np.column_stack((n1,n2))"
   ]
  },
  {
   "cell_type": "code",
   "execution_count": 30,
   "id": "4bc94038-b51e-4ee7-a0a2-1b14a02dd5c3",
   "metadata": {},
   "outputs": [
    {
     "data": {
      "text/plain": [
       "array([17, 32, 72])"
      ]
     },
     "execution_count": 30,
     "metadata": {},
     "output_type": "execute_result"
    }
   ],
   "source": [
    "n1 =np.array([83, 14, 72, 62, 17,  3, 72, 32])\n",
    "n2 = np.array([84, 12, 72, 65, 17,  75, 73, 32])\n",
    "np.intersect1d(n1,n2)"
   ]
  },
  {
   "cell_type": "code",
   "execution_count": 31,
   "id": "8f82fa77-bbea-4262-b0bd-6b9b1b875572",
   "metadata": {},
   "outputs": [
    {
     "data": {
      "text/plain": [
       "array([ 3, 14, 62, 83])"
      ]
     },
     "execution_count": 31,
     "metadata": {},
     "output_type": "execute_result"
    }
   ],
   "source": [
    "n1 =np.array([83, 14, 72, 62, 17,  3, 72, 32])\n",
    "n2 = np.array([84, 12, 72, 65, 17,  75, 73, 32])\n",
    "np.setdiff1d(n1,n2)"
   ]
  },
  {
   "cell_type": "code",
   "execution_count": 32,
   "id": "785a7486-c567-4311-b0a8-1f4416b38a23",
   "metadata": {},
   "outputs": [
    {
     "data": {
      "text/plain": [
       "785"
      ]
     },
     "execution_count": 32,
     "metadata": {},
     "output_type": "execute_result"
    }
   ],
   "source": [
    "n1 =np.array([83, 14, 72, 62, 17,  3, 72, 32])\n",
    "n2 = np.array([84, 12, 72, 65, 17,  75, 73, 32])\n",
    "np.sum([n1,n2])"
   ]
  },
  {
   "cell_type": "code",
   "execution_count": 48,
   "id": "1272a2e6-f5c0-4148-93eb-fc80436de1c6",
   "metadata": {},
   "outputs": [
    {
     "data": {
      "text/plain": [
       "array([430, 355])"
      ]
     },
     "execution_count": 48,
     "metadata": {},
     "output_type": "execute_result"
    }
   ],
   "source": [
    "n1 =np.array([83, 14, 72, 62, 17,  3, 72, 32])\n",
    "n2 = np.array([84, 12, 72, 65, 17,  75, 73, 32])\n",
    "n3 = np.vstack((n2,n1))\n",
    "n3.sum(axis =1)\n",
    "\n"
   ]
  },
  {
   "cell_type": "code",
   "execution_count": 49,
   "id": "e7fff898-c554-44fb-8fe7-d1b4d49ea07d",
   "metadata": {},
   "outputs": [
    {
     "data": {
      "text/plain": [
       "array([85, 16, 74, 64, 19,  5, 74, 34])"
      ]
     },
     "execution_count": 49,
     "metadata": {},
     "output_type": "execute_result"
    }
   ],
   "source": [
    "n1 =np.array([83, 14, 72, 62, 17,  3, 72, 32])\n",
    "n2 = np.array([84, 12, 72, 65, 17,  75, 73, 32])\n",
    "np.sum([n1,n2],axis=0)\n",
    "n1 = n1+2\n",
    "n1"
   ]
  },
  {
   "cell_type": "code",
   "execution_count": 50,
   "id": "ddac8f56-6f7f-4ae9-83c4-626453311e30",
   "metadata": {},
   "outputs": [
    {
     "data": {
      "text/plain": [
       "array([168,  24, 144, 130,  34, 150, 146,  64])"
      ]
     },
     "execution_count": 50,
     "metadata": {},
     "output_type": "execute_result"
    }
   ],
   "source": [
    "n2 = n2*2\n",
    "n2"
   ]
  },
  {
   "cell_type": "code",
   "execution_count": 55,
   "id": "c8c350b9-7332-4238-beb8-e5843b07baaa",
   "metadata": {},
   "outputs": [],
   "source": [
    "n4 = np.array([2,9,7,4,3,3,5,4,3,3,])\n",
    "np.save('my_np', n4)"
   ]
  },
  {
   "cell_type": "code",
   "execution_count": 1,
   "id": "086de8f9-5c36-4b33-9081-3f769248b6f3",
   "metadata": {},
   "outputs": [],
   "source": [
    "n5=np.load('my_np',n4)\n",
    "n5"
   ]
  },
  {
   "cell_type": "code",
   "execution_count": null,
   "id": "0aaad18a-e352-4ab4-9e1a-bdfac18da883",
   "metadata": {},
   "outputs": [],
   "source": []
  }
 ],
 "metadata": {
  "kernelspec": {
   "display_name": "Python 3 (ipykernel)",
   "language": "python",
   "name": "python3"
  },
  "language_info": {
   "codemirror_mode": {
    "name": "ipython",
    "version": 3
   },
   "file_extension": ".py",
   "mimetype": "text/x-python",
   "name": "python",
   "nbconvert_exporter": "python",
   "pygments_lexer": "ipython3",
   "version": "3.9.13"
  }
 },
 "nbformat": 4,
 "nbformat_minor": 5
}
